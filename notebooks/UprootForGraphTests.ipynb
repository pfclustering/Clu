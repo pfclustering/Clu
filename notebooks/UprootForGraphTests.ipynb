{
 "cells": [
  {
   "cell_type": "markdown",
   "metadata": {},
   "source": [
    "# Tests to access uproot objects "
   ]
  },
  {
   "cell_type": "markdown",
   "metadata": {},
   "source": []
  },
  {
   "cell_type": "markdown",
   "metadata": {},
   "source": [
    "#### Let's start with accessing the rechits"
   ]
  },
  {
   "cell_type": "code",
   "execution_count": 2,
   "metadata": {},
   "outputs": [],
   "source": [
    "import uproot"
   ]
  },
  {
   "cell_type": "code",
   "execution_count": 8,
   "metadata": {},
   "outputs": [],
   "source": [
    "path = '/pnfs/psi.ch/cms/trivcat/store/user/mratti/Dumper/'\n",
    "\n",
    "fn = path + 'photon_E1to100GeV_closeEcal_EB_noPU_thrsLumi450_pfrh3.0_seed3.0_noMargin_thrRingEBXtalEE_shs1.0_maxd10.0_l450_P01_n10_njd0.root'\n",
    "\n"
   ]
  },
  {
   "cell_type": "code",
   "execution_count": 9,
   "metadata": {},
   "outputs": [],
   "source": [
    "file = uproot.open(fn)"
   ]
  },
  {
   "cell_type": "code",
   "execution_count": 10,
   "metadata": {},
   "outputs": [
    {
     "data": {
      "text/plain": [
       "[b'recosimdumper;1']"
      ]
     },
     "execution_count": 10,
     "metadata": {},
     "output_type": "execute_result"
    }
   ],
   "source": [
    "file.keys()"
   ]
  },
  {
   "cell_type": "code",
   "execution_count": 11,
   "metadata": {},
   "outputs": [
    {
     "data": {
      "text/plain": [
       "[b'caloTree;1']"
      ]
     },
     "execution_count": 11,
     "metadata": {},
     "output_type": "execute_result"
    }
   ],
   "source": [
    "file['recosimdumper'].keys()"
   ]
  },
  {
   "cell_type": "code",
   "execution_count": 13,
   "metadata": {},
   "outputs": [
    {
     "data": {
      "text/plain": [
       "(b'caloTree', b'caloTree', 10)"
      ]
     },
     "execution_count": 13,
     "metadata": {},
     "output_type": "execute_result"
    }
   ],
   "source": [
    "events = file['recosimdumper']['caloTree']\n",
    "events.name, events.title, events.numentries"
   ]
  },
  {
   "cell_type": "code",
   "execution_count": 14,
   "metadata": {},
   "outputs": [
    {
     "name": "stdout",
     "output_type": "stream",
     "text": [
      "eventId                    (no streamer)              asdtype('>i8')\n",
      "lumiId                     (no streamer)              asdtype('>i4')\n",
      "runId                      (no streamer)              asdtype('>i4')\n",
      "nVtx                       (no streamer)              asdtype('>i4')\n",
      "rho                        (no streamer)              asdtype('>f4')\n",
      "genParticle_id             TStreamerSTL               asjagged(asdtype('>i4'), 10)\n",
      "genParticle_isGammaFromMeson\n",
      "                           TStreamerSTL               asjagged(asdtype('bool'), 10)\n",
      "genParticle_energy         TStreamerSTL               asjagged(asdtype('>f4'), 10)\n",
      "genParticle_pt             TStreamerSTL               asjagged(asdtype('>f4'), 10)\n",
      "genParticle_eta            TStreamerSTL               asjagged(asdtype('>f4'), 10)\n",
      "genParticle_phi            TStreamerSTL               asjagged(asdtype('>f4'), 10)\n",
      "genParticle_pfCluster_dR_genScore_MatchedIndex\n",
      "                           TStreamerSTL               asgenobj(STLVector(STLVector(asdtype('>i4'))))\n",
      "caloParticle_id            TStreamerSTL               asjagged(asdtype('>i4'), 10)\n",
      "caloParticle_genEnergy     TStreamerSTL               asjagged(asdtype('>f4'), 10)\n",
      "caloParticle_simEnergy     TStreamerSTL               asjagged(asdtype('>f4'), 10)\n",
      "caloParticle_genPt         TStreamerSTL               asjagged(asdtype('>f4'), 10)\n",
      "caloParticle_simPt         TStreamerSTL               asjagged(asdtype('>f4'), 10)\n",
      "caloParticle_genEta        TStreamerSTL               asjagged(asdtype('>f4'), 10)\n",
      "caloParticle_simEta        TStreamerSTL               asjagged(asdtype('>f4'), 10)\n",
      "caloParticle_genPhi        TStreamerSTL               asjagged(asdtype('>f4'), 10)\n",
      "caloParticle_simPhi        TStreamerSTL               asjagged(asdtype('>f4'), 10)\n",
      "caloParticle_simIeta       TStreamerSTL               asjagged(asdtype('>i4'), 10)\n",
      "caloParticle_simIphi       TStreamerSTL               asjagged(asdtype('>i4'), 10)\n",
      "caloParticle_simIz         TStreamerSTL               asjagged(asdtype('>i4'), 10)\n",
      "caloParticle_pfCluster_dR_simScore_MatchedIndex\n",
      "                           TStreamerSTL               asgenobj(STLVector(STLVector(asdtype('>i4'))))\n",
      "caloParticle_pfCluster_sim_fraction_old_MatchedIndex\n",
      "                           TStreamerSTL               asgenobj(STLVector(STLVector(asdtype('>i4'))))\n",
      "caloParticle_pfCluster_simScore_MatchedIndex\n",
      "                           TStreamerSTL               asgenobj(STLVector(STLVector(asdtype('>i4'))))\n",
      "simHit_energy              TStreamerSTL               asjagged(asdtype('>f4'), 10)\n",
      "simHit_eta                 TStreamerSTL               asjagged(asdtype('>f4'), 10)\n",
      "simHit_phi                 TStreamerSTL               asjagged(asdtype('>f4'), 10)\n",
      "simHit_ieta                TStreamerSTL               asjagged(asdtype('>i4'), 10)\n",
      "simHit_iphi                TStreamerSTL               asjagged(asdtype('>i4'), 10)\n",
      "simHit_iz                  TStreamerSTL               asjagged(asdtype('>i4'), 10)\n",
      "simHit_icP                 TStreamerSTL               asjagged(asdtype('>i4'), 10)\n",
      "pfRecHit_energy            TStreamerSTL               asjagged(asdtype('>f4'), 10)\n",
      "pfRecHit_eta               TStreamerSTL               asjagged(asdtype('>f4'), 10)\n",
      "pfRecHit_phi               TStreamerSTL               asjagged(asdtype('>f4'), 10)\n",
      "pfRecHit_ieta              TStreamerSTL               asjagged(asdtype('>i4'), 10)\n",
      "pfRecHit_iphi              TStreamerSTL               asjagged(asdtype('>i4'), 10)\n",
      "pfRecHit_iz                TStreamerSTL               asjagged(asdtype('>i4'), 10)\n",
      "pfCluster_energy           TStreamerSTL               asjagged(asdtype('>f4'), 10)\n",
      "pfCluster_eta              TStreamerSTL               asjagged(asdtype('>f4'), 10)\n",
      "pfCluster_phi              TStreamerSTL               asjagged(asdtype('>f4'), 10)\n",
      "pfCluster_ieta             TStreamerSTL               asjagged(asdtype('>i4'), 10)\n",
      "pfCluster_iphi             TStreamerSTL               asjagged(asdtype('>i4'), 10)\n",
      "pfCluster_iz               TStreamerSTL               asjagged(asdtype('>i4'), 10)\n",
      "pfCluster_nXtals           TStreamerSTL               asjagged(asdtype('>i4'), 10)\n",
      "pfCluster_dR_genScore_MatchedIndex\n",
      "                           TStreamerSTL               asjagged(asdtype('>i4'), 10)\n",
      "pfCluster_dR_simScore_MatchedIndex\n",
      "                           TStreamerSTL               asjagged(asdtype('>i4'), 10)\n",
      "pfCluster_sim_fraction_old_MatchedIndex\n",
      "                           TStreamerSTL               asjagged(asdtype('>i4'), 10)\n",
      "pfCluster_simScore_MatchedIndex\n",
      "                           TStreamerSTL               asjagged(asdtype('>i4'), 10)\n",
      "pfCluster_dR_genScore      TStreamerSTL               asgenobj(STLVector(STLVector(asdtype('>f8'))))\n",
      "pfCluster_dR_simScore      TStreamerSTL               asgenobj(STLVector(STLVector(asdtype('>f8'))))\n",
      "pfCluster_sim_fraction_old TStreamerSTL               asgenobj(STLVector(STLVector(asdtype('>f8'))))\n",
      "pfCluster_simScore         TStreamerSTL               asgenobj(STLVector(STLVector(asdtype('>f8'))))\n"
     ]
    }
   ],
   "source": [
    "events.show()"
   ]
  },
  {
   "cell_type": "code",
   "execution_count": 16,
   "metadata": {},
   "outputs": [
    {
     "data": {
      "text/plain": [
       "asjagged(asdtype('>f4'), 10)"
      ]
     },
     "execution_count": 16,
     "metadata": {},
     "output_type": "execute_result"
    }
   ],
   "source": [
    "energy = events.array('pfRecHit_energy')\n",
    "events[\"pfRecHit_energy\"].interpretation"
   ]
  },
  {
   "cell_type": "code",
   "execution_count": 17,
   "metadata": {},
   "outputs": [
    {
     "data": {
      "text/plain": [
       "<JaggedArray [[1.3117473 1.381449 0.612709 ... 1.6849309 1.6318932 0.6971503] [0.5179462 0.5227296 0.953044 ... 4.2871284 0.7312392 0.7343803] [0.83300406 0.55942506 0.7100078 ... 19.446556 0.8331077 0.86383057] ... [0.6302679 0.7366786 0.4810414 ... 0.5589438 0.6820024 0.7295067] [0.5249433 44.987804 4.0534205 ... 0.9327644 0.87433153 0.89892834] [1.9621348 6.126766 22.164194 ... 0.87501127 0.82499427 0.8013188]] at 0x7f0644069b70>"
      ]
     },
     "execution_count": 17,
     "metadata": {},
     "output_type": "execute_result"
    }
   ],
   "source": [
    "energy ## It's a jagged array! [  [event1_Rh1, event1_Rh2, ...] [event2_Rh1, ..., event2_Rh5, ...] ...  ]"
   ]
  },
  {
   "cell_type": "code",
   "execution_count": 18,
   "metadata": {},
   "outputs": [
    {
     "data": {
      "text/plain": [
       "(10,)"
      ]
     },
     "execution_count": 18,
     "metadata": {},
     "output_type": "execute_result"
    }
   ],
   "source": [
    "energy.shape  # its shape is still (10,) "
   ]
  },
  {
   "cell_type": "code",
   "execution_count": 20,
   "metadata": {},
   "outputs": [],
   "source": [
    "ieta = events.array('pfRecHit_ieta')\n",
    "iphi = events.array('pfRecHit_iphi')\n",
    "### iz = events.array('pfRecHit_iz') not needed in EB"
   ]
  },
  {
   "cell_type": "code",
   "execution_count": 46,
   "metadata": {},
   "outputs": [
    {
     "data": {
      "text/plain": [
       "((10,), (10,))"
      ]
     },
     "execution_count": 46,
     "metadata": {},
     "output_type": "execute_result"
    }
   ],
   "source": [
    "ieta.shape, iphi.shape"
   ]
  },
  {
   "cell_type": "code",
   "execution_count": 21,
   "metadata": {},
   "outputs": [
    {
     "data": {
      "text/plain": [
       "array([ 1.3117473 ,  1.381449  ,  0.612709  ,  2.661446  ,  3.152281  ,\n",
       "        0.738559  ,  6.4919667 ,  2.9696872 ,  0.67836297, 31.490005  ,\n",
       "       10.628131  ,  1.1260808 , 43.93411   , 19.55381   ,  0.9343257 ,\n",
       "        0.5970161 ,  0.6321247 ,  0.72939306,  1.6849309 ,  1.6318932 ,\n",
       "        0.6971503 ], dtype=float32)"
      ]
     },
     "execution_count": 21,
     "metadata": {},
     "output_type": "execute_result"
    }
   ],
   "source": [
    "energy[0] # go to the first event"
   ]
  },
  {
   "cell_type": "code",
   "execution_count": 27,
   "metadata": {},
   "outputs": [],
   "source": [
    "# now create some data structure with these arrays, to make the handling more compact\n",
    "class mydf(object):\n",
    "  def __init__(self,energy,ieta,iphi):\n",
    "    self.energy=energy\n",
    "    #self.isseed=isseed # boolean\n",
    "    self.ieta=ieta\n",
    "    self.iphi=iphi"
   ]
  },
  {
   "cell_type": "code",
   "execution_count": 28,
   "metadata": {},
   "outputs": [],
   "source": [
    "df = mydf(energy,ieta,iphi)\n",
    "#df.energy[0]\n"
   ]
  },
  {
   "cell_type": "code",
   "execution_count": 25,
   "metadata": {},
   "outputs": [],
   "source": [
    "############### I "
   ]
  },
  {
   "cell_type": "markdown",
   "metadata": {},
   "source": [
    "#### Time to create some graph structure"
   ]
  },
  {
   "cell_type": "markdown",
   "metadata": {},
   "source": [
    "##### Preliminarily we want to create several graphs within the same event, because we have several energy deposits.   The idea is to find local energy maxima in the event and create windows of ?15x15? crystals.  This will work easily for our photon gun, but there may be troubles in real life, where you have overlapping energy deposits"
   ]
  },
  {
   "cell_type": "code",
   "execution_count": 60,
   "metadata": {},
   "outputs": [
    {
     "ename": "SyntaxError",
     "evalue": "invalid syntax (<ipython-input-60-9f6bf99fe017>, line 1)",
     "output_type": "error",
     "traceback": [
      "\u001b[0;36m  File \u001b[0;32m\"<ipython-input-60-9f6bf99fe017>\"\u001b[0;36m, line \u001b[0;32m1\u001b[0m\n\u001b[0;31m    def createWindows()\u001b[0m\n\u001b[0m                       ^\u001b[0m\n\u001b[0;31mSyntaxError\u001b[0m\u001b[0;31m:\u001b[0m invalid syntax\n"
     ]
    }
   ],
   "source": [
    "def createWindows()"
   ]
  },
  {
   "cell_type": "code",
   "execution_count": null,
   "metadata": {},
   "outputs": [],
   "source": []
  },
  {
   "cell_type": "code",
   "execution_count": null,
   "metadata": {},
   "outputs": [],
   "source": []
  },
  {
   "cell_type": "code",
   "execution_count": null,
   "metadata": {},
   "outputs": [],
   "source": []
  }
 ],
 "metadata": {
  "celltoolbar": "Raw Cell Format",
  "kernelspec": {
   "display_name": "Python 3",
   "language": "python",
   "name": "python3"
  },
  "language_info": {
   "codemirror_mode": {
    "name": "ipython",
    "version": 3
   },
   "file_extension": ".py",
   "mimetype": "text/x-python",
   "name": "python",
   "nbconvert_exporter": "python",
   "pygments_lexer": "ipython3",
   "version": "3.6.7"
  }
 },
 "nbformat": 4,
 "nbformat_minor": 2
}
